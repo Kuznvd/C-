{
  "nbformat": 4,
  "nbformat_minor": 0,
  "metadata": {
    "colab": {
      "provenance": [],
      "authorship_tag": "ABX9TyPiN1l//dR3EjzJ8kC7wFuz",
      "include_colab_link": true
    },
    "kernelspec": {
      "name": "python3",
      "display_name": "Python 3"
    },
    "language_info": {
      "name": "python"
    }
  },
  "cells": [
    {
      "cell_type": "markdown",
      "metadata": {
        "id": "view-in-github",
        "colab_type": "text"
      },
      "source": [
        "<a href=\"https://colab.research.google.com/github/Kuznvd/C-/blob/main/%D0%9A%D1%83%D0%B7%D0%BD%D0%B5%D1%86%D0%BE%D0%B2%D0%94_%D0%A1_%D0%A0%D0%A21.ipynb\" target=\"_parent\"><img src=\"https://colab.research.google.com/assets/colab-badge.svg\" alt=\"Open In Colab\"/></a>"
      ]
    },
    {
      "cell_type": "markdown",
      "source": [
        "1.3"
      ],
      "metadata": {
        "id": "3A5HEauJrsMf"
      }
    },
    {
      "cell_type": "code",
      "execution_count": 1,
      "metadata": {
        "colab": {
          "base_uri": "https://localhost:8080/"
        },
        "id": "ZoA4G-19qxxf",
        "outputId": "3ac78ae3-84a5-472e-b9a1-7b7f7913bf99"
      },
      "outputs": [
        {
          "output_type": "stream",
          "name": "stdout",
          "text": [
            "True | <class 'bool'> \n",
            " {8, 1, 3, 7} | <class 'set'> \n",
            " {2, 4, 5, 10, 'apple'} | <class 'set'> \n",
            " set() | <class 'set'> \n",
            " ('Антонова Антонина', 34, 'ж') | <class 'tuple'> \n",
            " type | <class 'str'> \n",
            " [1, 'title', 2, 'content'] | <class 'list'> \n",
            "\n"
          ]
        }
      ],
      "source": [
        "X = 5 >= 2\n",
        "A = {1, 3, 7, 8}\n",
        "B =  {2, 4, 5, 10, 'apple'}\n",
        "C = A & B\n",
        "df = 'Антонова Антонина', 34, 'ж'\n",
        "z = 'type'\n",
        "D = [1, 'title', 2, 'content']\n",
        "print(X, '|', type(X), '\\n', A, '|', type(A), '\\n', B, '|', type(B), '\\n', C, '|', type(C), '\\n', df, '|', type(df), '\\n', z, '|', type(z), '\\n', D, '|', type(D), '\\n',)"
      ]
    },
    {
      "cell_type": "markdown",
      "source": [
        "2.3"
      ],
      "metadata": {
        "id": "wYf6X26WrvXs"
      }
    },
    {
      "cell_type": "code",
      "source": [
        "number = input('Введите число: ')\n",
        "x = int(number)\n",
        "if x<-5:\n",
        "    print('Число принадлежит: (-infinity, -5)')\n",
        "elif x>=-5 and x<=5:\n",
        "    print('Число принадлежит: [-5, 5]')\n",
        "else:\n",
        "    print('Число принадлежит: (5, +infinity)')"
      ],
      "metadata": {
        "colab": {
          "base_uri": "https://localhost:8080/"
        },
        "id": "Olqmowf1rv4M",
        "outputId": "6ba180f0-c8d7-4ae5-9c94-2b546fb6c2b3"
      },
      "execution_count": 2,
      "outputs": [
        {
          "output_type": "stream",
          "name": "stdout",
          "text": [
            "Введите число: 6\n",
            "Число принадлежит: (5, +infinity)\n"
          ]
        }
      ]
    },
    {
      "cell_type": "markdown",
      "source": [
        "3.3.1"
      ],
      "metadata": {
        "id": "F2doxmD5rwgW"
      }
    },
    {
      "cell_type": "code",
      "source": [
        "x = 10\n",
        "while x >= 1:\n",
        "    print(x)\n",
        "    x -= 3"
      ],
      "metadata": {
        "colab": {
          "base_uri": "https://localhost:8080/"
        },
        "id": "W2y3o6kfrwum",
        "outputId": "fafb211b-29f4-4d7e-a815-0b5458aba8cd"
      },
      "execution_count": 3,
      "outputs": [
        {
          "output_type": "stream",
          "name": "stdout",
          "text": [
            "10\n",
            "7\n",
            "4\n",
            "1\n"
          ]
        }
      ]
    },
    {
      "cell_type": "markdown",
      "source": [
        "3.3.2"
      ],
      "metadata": {
        "id": "mwPKUO3isa6I"
      }
    },
    {
      "cell_type": "code",
      "source": [
        "print(['рост', 'вес', 'пол'])"
      ],
      "metadata": {
        "colab": {
          "base_uri": "https://localhost:8080/"
        },
        "id": "5T7OjAsDseoJ",
        "outputId": "76f70e3d-fe1e-4e03-8d3e-a631f38c87b2"
      },
      "execution_count": 4,
      "outputs": [
        {
          "output_type": "stream",
          "name": "stdout",
          "text": [
            "['рост', 'вес', 'пол']\n"
          ]
        }
      ]
    },
    {
      "cell_type": "markdown",
      "source": [
        "3.3.3"
      ],
      "metadata": {
        "id": "XfQSnO9Tsff4"
      }
    },
    {
      "cell_type": "code",
      "source": [
        "a = []\n",
        "for i in range(2, 16, 2):\n",
        "    a.append(i)\n",
        "print(a)"
      ],
      "metadata": {
        "colab": {
          "base_uri": "https://localhost:8080/"
        },
        "id": "Ri88f_JTsiPX",
        "outputId": "0f026631-78c7-4995-8959-a67629aa341d"
      },
      "execution_count": 5,
      "outputs": [
        {
          "output_type": "stream",
          "name": "stdout",
          "text": [
            "[2, 4, 6, 8, 10, 12, 14]\n"
          ]
        }
      ]
    },
    {
      "cell_type": "markdown",
      "source": [
        "3.3.4"
      ],
      "metadata": {
        "id": "ndNudIOcsiyI"
      }
    },
    {
      "cell_type": "code",
      "source": [
        "for i in range(105, 4, -25):\n",
        "    print(i)"
      ],
      "metadata": {
        "colab": {
          "base_uri": "https://localhost:8080/"
        },
        "id": "ztcFoRalslKs",
        "outputId": "a285311b-da71-4d87-b53f-195a1f353066"
      },
      "execution_count": 6,
      "outputs": [
        {
          "output_type": "stream",
          "name": "stdout",
          "text": [
            "105\n",
            "80\n",
            "55\n",
            "30\n",
            "5\n"
          ]
        }
      ]
    },
    {
      "cell_type": "markdown",
      "source": [
        "3.3.5"
      ],
      "metadata": {
        "id": "8AqnX9tNsl4g"
      }
    },
    {
      "cell_type": "code",
      "source": [
        "x = [0, 1, 2, 3, 4, 5, 6, 7, 8, 9]\n",
        "x[0::2] = reversed(x[0::2])\n",
        "print(x)"
      ],
      "metadata": {
        "colab": {
          "base_uri": "https://localhost:8080/"
        },
        "id": "cehQaPnssoYJ",
        "outputId": "81bbcdf9-c26d-4076-f0dc-e5b309f9e13d"
      },
      "execution_count": 7,
      "outputs": [
        {
          "output_type": "stream",
          "name": "stdout",
          "text": [
            "[8, 1, 6, 3, 4, 5, 2, 7, 0, 9]\n"
          ]
        }
      ]
    },
    {
      "cell_type": "markdown",
      "source": [
        "4.3.1"
      ],
      "metadata": {
        "id": "FCwsLAujsrQw"
      }
    },
    {
      "cell_type": "code",
      "source": [
        "import random\n",
        "import statistics\n",
        "from matplotlib import pyplot as plt\n",
        "x = [random.random() for i in range(10)]\n",
        "medium = sum(x) / len(x) \n",
        "median = statistics.median(x) \n",
        "print(medium, median)\n",
        "\n",
        "fig, compare = plt.subplots(figsize = (10, 6))\n",
        "compare.scatter(x, x)\n",
        "plt.show()"
      ],
      "metadata": {
        "colab": {
          "base_uri": "https://localhost:8080/",
          "height": 392
        },
        "id": "qJq29mrzssFb",
        "outputId": "dfc18f53-eefd-4ea0-955e-62c9ae0dda49"
      },
      "execution_count": 14,
      "outputs": [
        {
          "output_type": "stream",
          "name": "stdout",
          "text": [
            "0.32901508004567914 0.19864884044170822\n"
          ]
        },
        {
          "output_type": "display_data",
          "data": {
            "text/plain": [
              "<Figure size 720x432 with 1 Axes>"
            ],
            "image/png": "[encoded data removed]"
          },
          "metadata": {
            "needs_background": "light"
          }
        }
      ]
    },
    {
      "cell_type": "markdown",
      "source": [
        "4.3.2"
      ],
      "metadata": {
        "id": "R4k6Zt5nssoV"
      }
    },
    {
      "cell_type": "code",
      "source": [
        "import math\n",
        "from matplotlib import pyplot as plt\n",
        "from math import sqrt\n",
        "\n",
        "function = []\n",
        "for x in range(1,11): \n",
        "      function.append((sqrt(1 + math.e ** sqrt(x) + math.cos(x**2)))/abs(1- (math.sin(x))**3)) \n",
        "newfunction = function[:5] \n",
        "plt.plot(function) \n",
        "plt.show()\n",
        "fig, ax = plt.subplots(figsize=(10, 6))\n",
        "ax.scatter(newfunction, newfunction)\n",
        "plt.show()"
      ],
      "metadata": {
        "colab": {
          "base_uri": "https://localhost:8080/",
          "height": 623
        },
        "id": "Bik4kR08svX6",
        "outputId": "62ef8a41-81de-427e-d639-d0f88b61dba8"
      },
      "execution_count": 9,
      "outputs": [
        {
          "output_type": "display_data",
          "data": {
            "text/plain": [
              "<Figure size 432x288 with 1 Axes>"
            ],
            "image/png": "[encoded data removed]"
          },
          "metadata": {
            "needs_background": "light"
          }
        },
        {
          "output_type": "display_data",
          "data": {
            "text/plain": [
              "<Figure size 720x432 with 1 Axes>"
            ],
            "image/png": "[encoded data removed]"
          },
          "metadata": {
            "needs_background": "light"
          }
        }
      ]
    },
    {
      "cell_type": "markdown",
      "source": [
        "4.3.3"
      ],
      "metadata": {
        "id": "HW4bSQCnswEK"
      }
    },
    {
      "cell_type": "code",
      "source": [
        "from numpy import trapz\n",
        "import numpy as np\n",
        "import matplotlib.pyplot as plt\n",
        "x = np.arange(0.0, 10) \n",
        "y = np.abs(np.cos(x * np.exp(np.cos(x) + np.log(x+1)))) \n",
        "\n",
        "plt.grid()\n",
        "plt.plot(x, y, c = 'r')\n",
        "plt.fill_between(x,y)\n",
        "plt.show()\n",
        "\n",
        "print(trapz(y)) "
      ],
      "metadata": {
        "colab": {
          "base_uri": "https://localhost:8080/",
          "height": 283
        },
        "id": "nDQ7uPTIs1eA",
        "outputId": "9a0ac99e-c352-4cad-bfe1-e5a38c755437"
      },
      "execution_count": 10,
      "outputs": [
        {
          "output_type": "display_data",
          "data": {
            "text/plain": [
              "<Figure size 432x288 with 1 Axes>"
            ],
            "image/png": "[encoded data removed]"
          },
          "metadata": {
            "needs_background": "light"
          }
        },
        {
          "output_type": "stream",
          "name": "stdout",
          "text": [
            "6.260345875494747\n"
          ]
        }
      ]
    },
    {
      "cell_type": "markdown",
      "source": [
        "4.3.4"
      ],
      "metadata": {
        "id": "QIyqIo5zs38o"
      }
    },
    {
      "cell_type": "code",
      "source": [
        "import random\n",
        "import matplotlib.pyplot as plt\n",
        "Apple = [random.randint(140,150) for i in range(12)]\n",
        "Google = [random.randint(140,160) for i in range(12)]\n",
        "Microsoft = [random.randint(120,150) for i in range(12)]\n",
        "\n",
        "plt.plot(Apple)\n",
        "plt.plot(Google)\n",
        "plt.plot(Microsoft)\n",
        "\n",
        "plt.show()"
      ],
      "metadata": {
        "colab": {
          "base_uri": "https://localhost:8080/",
          "height": 265
        },
        "id": "edJaq2wLs6Sd",
        "outputId": "5f97cdd5-a277-4857-879f-ad36175bbfeb"
      },
      "execution_count": 11,
      "outputs": [
        {
          "output_type": "display_data",
          "data": {
            "text/plain": [
              "<Figure size 432x288 with 1 Axes>"
            ],
            "image/png": "[encoded data removed]"
          },
          "metadata": {
            "needs_background": "light"
          }
        }
      ]
    },
    {
      "cell_type": "markdown",
      "source": [
        "4.3.5"
      ],
      "metadata": {
        "id": "ZLB_xcvAs8aN"
      }
    },
    {
      "cell_type": "code",
      "source": [
        "from math import *\n",
        "\n",
        "print('Input x')\n",
        "x = int(input())\n",
        "print('Input y')\n",
        "y = int(input())\n",
        "\n",
        "print(x+y)\n",
        "print(x-y)\n",
        "print(x*y)\n",
        "print(x/y)\n",
        "print(e**(x+y))\n",
        "print(sin(x+y))\n",
        "print(cos(x+y))\n",
        "print(x**y)"
      ],
      "metadata": {
        "colab": {
          "base_uri": "https://localhost:8080/"
        },
        "id": "1icw2U4Es9fT",
        "outputId": "315db464-34c9-4771-d31e-fc22d5b03f3e"
      },
      "execution_count": 13,
      "outputs": [
        {
          "output_type": "stream",
          "name": "stdout",
          "text": [
            "Input x\n",
            "8\n",
            "Input y\n",
            "4\n",
            "12\n",
            "4\n",
            "32\n",
            "2.0\n",
            "162754.79141900383\n",
            "-0.5365729180004349\n",
            "0.8438539587324921\n",
            "4096\n"
          ]
        }
      ]
    }
  ]
}